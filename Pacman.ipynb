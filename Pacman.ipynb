{
  "nbformat": 4,
  "nbformat_minor": 0,
  "metadata": {
    "colab": {
      "name": "Pacman.ipynb",
      "provenance": [],
      "authorship_tag": "ABX9TyPMEDyOzjfk4JOAZVfUA+Ty",
      "include_colab_link": true
    },
    "kernelspec": {
      "name": "python3",
      "display_name": "Python 3"
    },
    "language_info": {
      "name": "python"
    }
  },
  "cells": [
    {
      "cell_type": "markdown",
      "metadata": {
        "id": "view-in-github",
        "colab_type": "text"
      },
      "source": [
        "<a href=\"https://colab.research.google.com/github/Damilola-ops/PacMan-RL/blob/main/Pacman.ipynb\" target=\"_parent\"><img src=\"https://colab.research.google.com/assets/colab-badge.svg\" alt=\"Open In Colab\"/></a>"
      ]
    },
    {
      "cell_type": "code",
      "execution_count": 1,
      "metadata": {
        "colab": {
          "base_uri": "https://localhost:8080/"
        },
        "id": "bBDeLJGsVIyV",
        "outputId": "ffff7a98-849f-4107-c5d6-eea7214bda75"
      },
      "outputs": [
        {
          "output_type": "stream",
          "name": "stdout",
          "text": [
            "Drive already mounted at /content/drive; to attempt to forcibly remount, call drive.mount(\"/content/drive\", force_remount=True).\n"
          ]
        }
      ],
      "source": [
        "from google.colab import drive\n",
        "drive.mount('/content/drive')"
      ]
    },
    {
      "cell_type": "code",
      "source": [
        "!pip install gym pyvirtualdisplay > /dev/null 2>&1\n",
        "!apt-get install -y xvfb python-opengl ffmpeg "
      ],
      "metadata": {
        "colab": {
          "base_uri": "https://localhost:8080/"
        },
        "id": "u5kHONF6uOwb",
        "outputId": "fb68a8a9-38d4-43f9-9a99-e510b27d02ef"
      },
      "execution_count": 2,
      "outputs": [
        {
          "output_type": "stream",
          "name": "stdout",
          "text": [
            "Reading package lists... Done\n",
            "Building dependency tree       \n",
            "Reading state information... Done\n",
            "python-opengl is already the newest version (3.1.0+dfsg-1).\n",
            "ffmpeg is already the newest version (7:3.4.11-0ubuntu0.1).\n",
            "xvfb is already the newest version (2:1.19.6-1ubuntu4.11).\n",
            "The following package was automatically installed and is no longer required:\n",
            "  libnvidia-common-460\n",
            "Use 'apt autoremove' to remove it.\n",
            "0 upgraded, 0 newly installed, 0 to remove and 51 not upgraded.\n"
          ]
        }
      ]
    },
    {
      "cell_type": "code",
      "source": [
        "!apt-get update > /dev/null 2>&1\n",
        "!apt-get install cmake > /dev/null 2>&1\n",
        "!pip install --upgrade setuptools 2>&1\n",
        "!pip install ez_setup > /dev/null 2>&1\n",
        "!pip install gym[atari] > /dev/null 2>&1"
      ],
      "metadata": {
        "id": "mEedB8XguQfv"
      },
      "execution_count": null,
      "outputs": []
    },
    {
      "cell_type": "code",
      "source": [
        "!pip install gym-retro"
      ],
      "metadata": {
        "colab": {
          "base_uri": "https://localhost:8080/"
        },
        "id": "zeuqTw9zvHz7",
        "outputId": "e009df7c-3702-44f3-de64-7c38c67aa2e8"
      },
      "execution_count": 3,
      "outputs": [
        {
          "output_type": "stream",
          "name": "stdout",
          "text": [
            "Looking in indexes: https://pypi.org/simple, https://us-python.pkg.dev/colab-wheels/public/simple/\n",
            "Requirement already satisfied: gym-retro in /usr/local/lib/python3.7/dist-packages (0.8.0)\n",
            "Requirement already satisfied: gym in /usr/local/lib/python3.7/dist-packages (from gym-retro) (0.17.3)\n",
            "Requirement already satisfied: pyglet==1.*,>=1.3.2 in /usr/local/lib/python3.7/dist-packages (from gym-retro) (1.5.0)\n",
            "Requirement already satisfied: future in /usr/local/lib/python3.7/dist-packages (from pyglet==1.*,>=1.3.2->gym-retro) (0.16.0)\n",
            "Requirement already satisfied: scipy in /usr/local/lib/python3.7/dist-packages (from gym->gym-retro) (1.7.3)\n",
            "Requirement already satisfied: cloudpickle<1.7.0,>=1.2.0 in /usr/local/lib/python3.7/dist-packages (from gym->gym-retro) (1.3.0)\n",
            "Requirement already satisfied: numpy>=1.10.4 in /usr/local/lib/python3.7/dist-packages (from gym->gym-retro) (1.21.6)\n"
          ]
        }
      ]
    },
    {
      "cell_type": "code",
      "source": [
        "!cd '/content/drive/MyDrive/ROMS'"
      ],
      "metadata": {
        "id": "ZmydcSYqvOyt"
      },
      "execution_count": 4,
      "outputs": []
    },
    {
      "cell_type": "code",
      "source": [
        "retro.data.list_games()"
      ],
      "metadata": {
        "colab": {
          "base_uri": "https://localhost:8080/",
          "height": 165
        },
        "id": "jqkYRXEfx-km",
        "outputId": "4721241d-9d81-4ebc-c754-164898251d60"
      },
      "execution_count": 5,
      "outputs": [
        {
          "output_type": "error",
          "ename": "NameError",
          "evalue": "ignored",
          "traceback": [
            "\u001b[0;31m---------------------------------------------------------------------------\u001b[0m",
            "\u001b[0;31mNameError\u001b[0m                                 Traceback (most recent call last)",
            "\u001b[0;32m<ipython-input-5-6b9e9ce557f5>\u001b[0m in \u001b[0;36m<module>\u001b[0;34m()\u001b[0m\n\u001b[0;32m----> 1\u001b[0;31m \u001b[0mretro\u001b[0m\u001b[0;34m.\u001b[0m\u001b[0mdata\u001b[0m\u001b[0;34m.\u001b[0m\u001b[0mlist_games\u001b[0m\u001b[0;34m(\u001b[0m\u001b[0;34m)\u001b[0m\u001b[0;34m\u001b[0m\u001b[0;34m\u001b[0m\u001b[0m\n\u001b[0m",
            "\u001b[0;31mNameError\u001b[0m: name 'retro' is not defined"
          ]
        }
      ]
    },
    {
      "cell_type": "code",
      "source": [
        "!python3 -m retro.import '/content/drive/MyDrive/ROMS'"
      ],
      "metadata": {
        "colab": {
          "base_uri": "https://localhost:8080/"
        },
        "id": "xy5_KKqawfvs",
        "outputId": "56ae3f34-1bc0-432f-ae5f-74e4b442f9e9"
      },
      "execution_count": 10,
      "outputs": [
        {
          "output_type": "stream",
          "name": "stdout",
          "text": [
            "Importing SpaceInvaders-Snes\n",
            "Importing SpaceInvaders91-Genesis\n",
            "Importing PacManNamco-Nes\n",
            "Importing MsPacMan-Genesis\n",
            "Importing VideoPinball-Atari2600\n",
            "Importing ElevatorAction-Atari2600\n",
            "Importing Asterix-Atari2600\n",
            "Importing BattleZone-Atari2600\n",
            "Importing Defender-Atari2600\n",
            "Importing Krull-Atari2600\n",
            "Importing Gravitar-Atari2600\n",
            "Importing Riverraid-Atari2600\n",
            "Importing DemonAttack-Atari2600\n",
            "Importing Assault-Atari2600\n",
            "Importing Assault-Atari2600\n",
            "Importing NameThisGame-Atari2600\n",
            "Importing BankHeist-Atari2600\n",
            "Importing Gopher-Atari2600\n",
            "Importing YarsRevenge-Atari2600\n",
            "Importing StarGunner-Atari2600\n",
            "Importing Robotank-Atari2600\n",
            "Importing Hero-Atari2600\n",
            "Importing MontezumaRevenge-Atari2600\n",
            "Importing Alien-Atari2600\n",
            "Importing Asteroids-Atari2600\n",
            "Importing AirRaid-Atari2600\n",
            "Importing Bowling-Atari2600\n",
            "Importing BeamRider-Atari2600\n",
            "Importing CrazyClimber-Atari2600\n",
            "Importing FishingDerby-Atari2600\n",
            "Importing Enduro-Atari2600\n",
            "Importing Frostbite-Atari2600\n",
            "Importing JourneyEscape-Atari2600\n",
            "Importing Kangaroo-Atari2600\n",
            "Importing Qbert-Atari2600\n",
            "Importing PrivateEye-Atari2600\n",
            "Importing Qbert-Atari2600\n",
            "Importing Phoenix-Atari2600\n",
            "Importing Pitfall-Atari2600\n",
            "Importing Seaquest-Atari2600\n",
            "Importing Solaris-Atari2600\n",
            "Importing TimePilot-Atari2600\n",
            "Importing Zaxxon-Atari2600\n",
            "Importing Pong-Atari2600\n",
            "Importing Skiing-Atari2600\n",
            "Importing Jamesbond-Atari2600\n",
            "Importing Berzerk-Atari2600\n",
            "Importing IceHockey-Atari2600\n",
            "Importing MsPacman-Atari2600\n",
            "Importing Atlantis-Atari2600\n",
            "Importing Kaboom-Atari2600\n",
            "Importing KungFuMaster-Atari2600\n",
            "Importing RoadRunner-Atari2600\n",
            "Importing Adventure-Atari2600\n",
            "Importing Tennis-Atari2600\n",
            "Importing Amidar-Atari2600\n",
            "Importing WizardOfWor-Atari2600\n",
            "Importing Carnival-Atari2600\n",
            "Importing Pooyan-Atari2600\n",
            "Importing Assault-Atari2600\n",
            "Importing Centipede-Atari2600\n",
            "Importing Venture-Atari2600\n",
            "Importing DoubleDunk-Atari2600\n",
            "Importing Tutankham-Atari2600\n",
            "Importing UpNDown-Atari2600\n",
            "Importing ChopperCommand-Atari2600\n",
            "Importing Breakout-Atari2600\n",
            "Importing Boxing-Atari2600\n",
            "Importing Freeway-Atari2600\n",
            "Importing MsPacMan-Genesis\n",
            "Imported 70 games\n"
          ]
        }
      ]
    },
    {
      "cell_type": "code",
      "source": [
        "import gym\n",
        "from gym import logger as gymlogger\n",
        "from gym.wrappers import Monitor\n",
        "gymlogger.set_level(40) #error only\n",
        "import tensorflow as tf\n",
        "import numpy as np\n",
        "import random\n",
        "import matplotlib\n",
        "import matplotlib.pyplot as plt\n",
        "%matplotlib inline\n",
        "import math\n",
        "import glob\n",
        "import io\n",
        "import base64\n",
        "from IPython.display import HTML\n",
        "\n",
        "from IPython import display as ipythondisplay"
      ],
      "metadata": {
        "id": "juqcwPM8uojC"
      },
      "execution_count": 7,
      "outputs": []
    },
    {
      "cell_type": "code",
      "source": [
        "import retro"
      ],
      "metadata": {
        "id": "b96b61Bqwtkf"
      },
      "execution_count": 8,
      "outputs": []
    },
    {
      "cell_type": "code",
      "source": [
        "from pyvirtualdisplay import Display\n",
        "display = Display(visible=0, size=(1400, 900))\n",
        "display.start()"
      ],
      "metadata": {
        "colab": {
          "base_uri": "https://localhost:8080/"
        },
        "id": "-XMavN90uoBi",
        "outputId": "d43aa19b-d6e0-407d-cfe5-41b1ed73f518"
      },
      "execution_count": 11,
      "outputs": [
        {
          "output_type": "execute_result",
          "data": {
            "text/plain": [
              "<pyvirtualdisplay.display.Display at 0x7fcf92b91950>"
            ]
          },
          "metadata": {},
          "execution_count": 11
        }
      ]
    },
    {
      "cell_type": "code",
      "source": [
        "env = retro.make(game='MsPacMan-Genesis')"
      ],
      "metadata": {
        "id": "fldnU_DOuy4X"
      },
      "execution_count": 12,
      "outputs": []
    },
    {
      "cell_type": "code",
      "source": [
        ""
      ],
      "metadata": {
        "id": "MLx2fqSvuy2D"
      },
      "execution_count": null,
      "outputs": []
    },
    {
      "cell_type": "code",
      "source": [
        ""
      ],
      "metadata": {
        "id": "MTwnI9Lluyzi"
      },
      "execution_count": null,
      "outputs": []
    },
    {
      "cell_type": "code",
      "source": [
        "drive_path = '/content/drive/MyDrive '"
      ],
      "metadata": {
        "id": "aoHNnC0bfaFT"
      },
      "execution_count": null,
      "outputs": []
    }
  ]
}